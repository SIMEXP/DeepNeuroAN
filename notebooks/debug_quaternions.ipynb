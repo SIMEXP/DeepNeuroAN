{
 "cells": [
  {
   "cell_type": "code",
   "execution_count": 1,
   "metadata": {},
   "outputs": [
    {
     "name": "stderr",
     "output_type": "stream",
     "text": [
      "WARNING: Logging before flag parsing goes to stderr.\n",
      "E1213 14:44:57.977617 140124859918144 due.py:63] Failed to import duecredit due to No module named 'duecredit'\n"
     ]
    }
   ],
   "source": [
    "import os\n",
    "import time\n",
    "import math\n",
    "import sys\n",
    "import warnings\n",
    "import numpy as np\n",
    "import matplotlib.pyplot as plt\n",
    "\n",
    "warnings.filterwarnings('ignore')\n",
    "sys.path.append(\"../\")\n",
    "from deepneuroan.data_generator import DataGenerator\n",
    "from deepneuroan.models import ChannelwiseConv3D\n",
    "from deepneuroan.generate_train_data import generate_random_quaternions, generate_random_transformations"
   ]
  },
  {
   "cell_type": "code",
   "execution_count": 29,
   "metadata": {},
   "outputs": [],
   "source": [
    "p_outliers=0.05\n",
    "n_vol=405\n",
    "n_transfs=10000\n",
    "range_rad=160*np.pi/180\n",
    "range_mm=3\n",
    "seed=0\n",
    "\n",
    "np.random.seed(seed)\n",
    "rnd = np.random.rand(n_vol, n_transfs, 3)\n",
    "Q = generate_random_quaternions(rnd, range_rad, p_outliers, method=\"uniform\")\n",
    "# Q, t = generate_random_transformations(n_transfs, n_vol, p_outliers, range_rad, range_mm, seed)"
   ]
  },
  {
   "cell_type": "code",
   "execution_count": 38,
   "metadata": {},
   "outputs": [
    {
     "data": {
      "text/plain": [
       "4.571814684521853"
      ]
     },
     "execution_count": 38,
     "metadata": {},
     "output_type": "execute_result"
    }
   ],
   "source": [
    "angles = 2*np.arccos(Q[0,0,0])\n",
    "angles"
   ]
  },
  {
   "cell_type": "code",
   "execution_count": 39,
   "metadata": {},
   "outputs": [
    {
     "data": {
      "text/plain": [
       "3.141592653589793"
      ]
     },
     "execution_count": 39,
     "metadata": {},
     "output_type": "execute_result"
    }
   ],
   "source": [
    "angles = 2*np.arcsin(np.linalg.norm(Q[0,0,:]))\n",
    "angles"
   ]
  },
  {
   "cell_type": "code",
   "execution_count": 33,
   "metadata": {},
   "outputs": [
    {
     "name": "stdout",
     "output_type": "stream",
     "text": [
      "358.2428825656999\n",
      "mean 180.002523\n",
      "percentile 95% 287.311027\n"
     ]
    },
    {
     "data": {
      "image/png": "[encoded data removed]",
      "text/plain": [
       "<Figure size 432x288 with 1 Axes>"
      ]
     },
     "metadata": {
      "needs_background": "light"
     },
     "output_type": "display_data"
    }
   ],
   "source": [
    "#angles\n",
    "angles = 2*np.arccos(Q[:,:,0])\n",
    "angles = 2*np.arcsin()\n",
    "print(np.max(angles*180/math.pi))\n",
    "print(\"mean %f\" %(np.mean(angles.flatten())*180/math.pi))\n",
    "print(\"percentile 95%% %f\" %np.percentile(angles.flatten()*180/math.pi, 95))\n",
    "plt.hist(angles.flatten()*180/math.pi, 1000)\n",
    "plt.show()"
   ]
  },
  {
   "cell_type": "code",
   "execution_count": 24,
   "metadata": {},
   "outputs": [
    {
     "name": "stdout",
     "output_type": "stream",
     "text": [
      "0.9975830339318321\n",
      "mean 0.000981\n",
      "percentile 95% 0.807712\n"
     ]
    },
    {
     "data": {
      "image/png": "[encoded data removed]",
      "text/plain": [
       "<Figure size 432x288 with 1 Axes>"
      ]
     },
     "metadata": {
      "needs_background": "light"
     },
     "output_type": "display_data"
    }
   ],
   "source": [
    "vec = Q[:,:,3].flatten()\n",
    "print(np.max(vec))\n",
    "print(\"mean %f\" %(np.mean(vec)))\n",
    "print(\"percentile 95%% %f\" %np.percentile(vec, 95))\n",
    "plt.hist(vec, 1000)\n",
    "plt.show()"
   ]
  },
  {
   "cell_type": "code",
   "execution_count": 30,
   "metadata": {},
   "outputs": [
    {
     "data": {
      "text/plain": [
       "[array([1., 1., 1., 1., 1., 1., 1., 1., 1., 1.]),\n",
       " array([1., 1., 1., 1., 1., 1., 1., 1., 1., 1.]),\n",
       " array([1., 1., 1., 1., 1., 1., 1., 1., 1., 1.]),\n",
       " array([1., 1., 1., 1., 1., 1., 1., 1., 1., 1.])]"
      ]
     },
     "execution_count": 30,
     "metadata": {},
     "output_type": "execute_result"
    }
   ],
   "source": [
    "norms = []\n",
    "for i in range(q.shape[0]):\n",
    "    norms += [np.linalg.norm(q[i,], axis=1)]\n",
    "norms"
   ]
  },
  {
   "cell_type": "code",
   "execution_count": 31,
   "metadata": {},
   "outputs": [],
   "source": [
    "qo = q[0,0,:]"
   ]
  },
  {
   "cell_type": "code",
   "execution_count": 32,
   "metadata": {},
   "outputs": [],
   "source": [
    "coeff_inverse = 1/(qo[0]**2 + qo[1]**2 + qo[2]**2 + qo[3]**2)"
   ]
  },
  {
   "cell_type": "code",
   "execution_count": 33,
   "metadata": {},
   "outputs": [],
   "source": [
    "qinv = coeff_inverse*np.array([qo[0], -qo[1], -qo[2], -qo[3]])"
   ]
  },
  {
   "cell_type": "code",
   "execution_count": 34,
   "metadata": {},
   "outputs": [
    {
     "data": {
      "text/plain": [
       "array([-0.65570124,  0.14574766,  0.44578275,  0.59168509])"
      ]
     },
     "execution_count": 34,
     "metadata": {},
     "output_type": "execute_result"
    }
   ],
   "source": [
    "qinv"
   ]
  },
  {
   "cell_type": "code",
   "execution_count": 35,
   "metadata": {},
   "outputs": [],
   "source": [
    "def q_multiply(q0, q1):\n",
    "    w0, x0, y0, z0 = q0\n",
    "    w1, x1, y1, z1 = q1\n",
    "    q = [-x1 * x0 - y1 * y0 - z1 * z0 + w1 * w0\n",
    "          , x1 * w0 + y1 * z0 - z1 * y0 + w1 * x0\n",
    "          , -x1 * z0 + y1 * w0 + z1 * x0 + w1 * y0\n",
    "          ,  x1 * y0 - y1 * x0 + z1 * w0 + w1 * z0]\n",
    "    return q"
   ]
  },
  {
   "cell_type": "code",
   "execution_count": 36,
   "metadata": {},
   "outputs": [
    {
     "data": {
      "text/plain": [
       "1.0"
      ]
     },
     "execution_count": 36,
     "metadata": {},
     "output_type": "execute_result"
    }
   ],
   "source": [
    "q_multiply(qo, qinv)[0]"
   ]
  },
  {
   "cell_type": "code",
   "execution_count": null,
   "metadata": {},
   "outputs": [],
   "source": []
  }
 ],
 "metadata": {
  "kernelspec": {
   "display_name": "Python 3",
   "language": "python",
   "name": "python3"
  },
  "language_info": {
   "codemirror_mode": {
    "name": "ipython",
    "version": 3
   },
   "file_extension": ".py",
   "mimetype": "text/x-python",
   "name": "python",
   "nbconvert_exporter": "python",
   "pygments_lexer": "ipython3",
   "version": "3.6.9"
  }
 },
 "nbformat": 4,
 "nbformat_minor": 2
}
