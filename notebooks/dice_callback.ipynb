{
 "cells": [
  {
   "cell_type": "code",
   "execution_count": 1,
   "metadata": {},
   "outputs": [
    {
     "name": "stderr",
     "output_type": "stream",
     "text": [
      "/home/ltetrel/.local/lib/python3.6/site-packages/sklearn/externals/joblib/__init__.py:15: DeprecationWarning: sklearn.externals.joblib is deprecated in 0.21 and will be removed in 0.23. Please import this functionality directly from joblib, which can be installed with: pip install joblib. If this warning is raised when loading pickled models, you may need to re-serialize those models with scikit-learn 0.21+.\n",
      "  warnings.warn(msg, category=DeprecationWarning)\n",
      "WARNING: Logging before flag parsing goes to stderr.\n",
      "E0121 11:58:16.193799 140396591261504 due.py:63] Failed to import duecredit due to No module named 'duecredit'\n"
     ]
    }
   ],
   "source": [
    "import sys\n",
    "import os\n",
    "import warnings\n",
    "import numpy as np\n",
    "import tensorflow as tf\n",
    "import SimpleITK as sitk\n",
    "from nilearn import image, plotting\n",
    "import nibabel as nib\n",
    "\n",
    "sys.path.append(\"../\")\n",
    "sys.path.append(\"../deepneuroan\")\n",
    "warnings.filterwarnings('ignore')\n",
    "\n",
    "from deepneuroan.data_generator import DataGenerator\n",
    "from deepneuroan.models import ChannelwiseConv3D, rigid_concatenated\n",
    "from deepneuroan.generate_train_data import transform_volume\n",
    "from deepneuroan.preproc import create_ref_grid, get_mni152_affine_nib, get_mni152_affine_itk"
   ]
  },
  {
   "cell_type": "code",
   "execution_count": 2,
   "metadata": {},
   "outputs": [],
   "source": [
    "data_dir = \"/home/ltetrel/Documents/data/neuromod/derivatives/deepneuroan/training/generated_data/\"\n",
    "template_filepath = os.path.join(data_dir, \"template_on_grid\")\n",
    "\n",
    "list_files = []\n",
    "list_files_tmp = set([])\n",
    "for root, _, files in os.walk(data_dir):\n",
    "    for file in files:\n",
    "        filepath = os.path.join(root, file).split('.')[0]\n",
    "        if os.path.exists(filepath + \".txt\"):\n",
    "            list_files_tmp.add(filepath)\n",
    "list_files = list(list_files_tmp)\n",
    "\n",
    "bs = 2\n",
    "ncpu = 1\n",
    "np.random.seed(0)\n",
    "params_gen = dict(list_files=list_files, template_file=template_filepath, batch_size=bs, avail_cores=ncpu)\n",
    "valid_gen = DataGenerator(partition=\"valid\", **params_gen)"
   ]
  },
  {
   "cell_type": "code",
   "execution_count": 3,
   "metadata": {},
   "outputs": [],
   "source": [
    "with open(\"/home/ltetrel/Documents/data/neuromod/derivatives/deepneuroan/training/rigid_concatenated_2020-01-17_22:26:33.json\", \"r\") as json_file:\n",
    "    model = tf.keras.models.model_from_json(json_file.read(), custom_objects={'ChannelwiseConv3D': ChannelwiseConv3D})\n",
    "model.load_weights(\"/home/ltetrel/Documents/data/neuromod/derivatives/deepneuroan/training/checkpoints/rigid_concatenated_best/rigid_concatenated_cp-0250.ckpt\")\n",
    "model.compile(optimizer=tf.keras.optimizers.Adam(lr=0.01)\n",
    "                  , loss=tf.keras.losses.mean_squared_error\n",
    "                  , metrics=[\"mae\"])"
   ]
  },
  {
   "cell_type": "code",
   "execution_count": 4,
   "metadata": {},
   "outputs": [],
   "source": [
    "ref_grid = create_ref_grid()\n",
    "\n",
    "# tmp\n",
    "batch = 0\n",
    "\n",
    "moving = valid_gen.__getitem__(0)[0][:, :, :, :,0][batch,]\n",
    "fixed = valid_gen.__getitem__(0)[0][:, :, :, :,1][batch,]\n",
    "pred = sitk.GetImageFromArray(moving)\n",
    "pred.SetOrigin(ref_grid.GetOrigin())\n",
    "pred.SetSpacing(ref_grid.GetSpacing())\n",
    "pred.SetDirection(ref_grid.GetDirection())\n",
    "# t_rigid = model.predict(x=valid_gen.__getitem__(0)[0], use_multiprocessing=False, verbose=0)[batch,]\n",
    "t_rigid = valid_gen.__getitem__(0)[1][batch,]\n",
    "registered_pred = transform_volume(pred, ref_grid, interp=sitk.sitkBSplineResampler, rigid=t_rigid)\n",
    "pred_mask = sitk.GetArrayFromImage(registered_pred) > 0\n",
    "truth_mask = fixed > 0\n",
    "# for i in range(all_gen.__len__()):\n",
    "#     fixed = valid_gen.__getitem__(0)[0][:, :, :, :,0]\n",
    "#     moving = valid_gen.__getitem__(0)[0][:, :, :, :,1]\n",
    "#     for batch in range(valid_gen.batch_size):\n",
    "#         sitk.GetImageFromArray(valid_gen.__getitem__(0)[0][:, :, :, :,0])\n",
    "#         pred = sitk.Image(ref_grid.GetSize(), ref_grid.GetPixelIDValue())\n",
    "#         pred.SetOrigin(ref_grid.GetOrigin())\n",
    "#         pred.SetSpacing(ref_grid.GetSpacing())\n",
    "#         pred.SetDirection(ref_grid.GetDirection())"
   ]
  },
  {
   "cell_type": "code",
   "execution_count": 5,
   "metadata": {},
   "outputs": [],
   "source": [
    "sitk.WriteImage(registered_pred, \"registered_pred.nii.gz\")\n",
    "tmp = sitk.GetImageFromArray(fixed)\n",
    "tmp.SetOrigin(ref_grid.GetOrigin())\n",
    "tmp.SetSpacing(ref_grid.GetSpacing())\n",
    "tmp.SetDirection(ref_grid.GetDirection())\n",
    "sitk.WriteImage(tmp, \"fixed.nii.gz\")"
   ]
  },
  {
   "cell_type": "code",
   "execution_count": 6,
   "metadata": {},
   "outputs": [
    {
     "name": "stdout",
     "output_type": "stream",
     "text": [
      "3747738\n",
      "3908808\n"
     ]
    },
    {
     "data": {
      "text/plain": [
       "0.9587930748215121"
      ]
     },
     "execution_count": 6,
     "metadata": {},
     "output_type": "execute_result"
    }
   ],
   "source": [
    "def dice_loss(y_true, y_pred):\n",
    "  \n",
    "    numerator = 2 * np.sum(y_true * y_pred)\n",
    "    denominator = np.sum(y_true) + np.sum(y_pred)\n",
    "    print(numerator)\n",
    "    print(denominator)\n",
    "    \n",
    "    return (numerator + 1) / (denominator + 1)\n",
    "\n",
    "dice_loss(truth_mask, pred_mask)"
   ]
  },
  {
   "cell_type": "code",
   "execution_count": 10,
   "metadata": {},
   "outputs": [
    {
     "data": {
      "text/plain": [
       "array([[  -1.,    0.,    0.,  109.],\n",
       "       [   0.,    1.,    0., -127.],\n",
       "       [   0.,    0.,    1.,  -91.],\n",
       "       [   0.,    0.,    0.,    1.]])"
      ]
     },
     "execution_count": 10,
     "metadata": {},
     "output_type": "execute_result"
    }
   ],
   "source": [
    "nib_img = nib.load(\"/home/ltetrel/Documents/data/neuromod/derivatives/deepneuroan/training/generated_data/template_on_grid.nii.gz\")\n",
    "nib_img.get_affine()"
   ]
  },
  {
   "cell_type": "code",
   "execution_count": 17,
   "metadata": {},
   "outputs": [
    {
     "name": "stdout",
     "output_type": "stream",
     "text": [
      "(1.0, 0.0, 0.0, 0.0, -1.0, 0.0, 0.0, 0.0, 1.0)\n",
      "(1.0, 1.0, 1.0)\n",
      "(-109.0, 127.0, -91.0)\n"
     ]
    }
   ],
   "source": [
    "itk_img = sitk.ReadImage(\"/home/ltetrel/Documents/data/neuromod/derivatives/deepneuroan/training/generated_data/template_on_grid.nii.gz\", sitk.sitkFloat32)\n",
    "print(itk_img.GetDirection())\n",
    "print(itk_img.GetSpacing())\n",
    "print(itk_img.GetOrigin())"
   ]
  },
  {
   "cell_type": "code",
   "execution_count": null,
   "metadata": {},
   "outputs": [],
   "source": [
    "# fixed = nib.load(\"/home/ltetrel/Documents/work/DeepNeuroAN/template/MNI152_T1_1mm_brain.nii.gz\")\n",
    "fixed = nib.Nifti1Image(fixed, get_mni152_affine_nib())\n",
    "pred = nib.Nifti1Image(registered_pred, get_mni152_affine_nib())"
   ]
  },
  {
   "cell_type": "code",
   "execution_count": null,
   "metadata": {},
   "outputs": [],
   "source": [
    "display = plotting.plot_anat(fixed)\n",
    "display.add_edges(pred)"
   ]
  },
  {
   "cell_type": "code",
   "execution_count": null,
   "metadata": {},
   "outputs": [],
   "source": []
  }
 ],
 "metadata": {
  "kernelspec": {
   "display_name": "Python 3",
   "language": "python",
   "name": "python3"
  },
  "language_info": {
   "codemirror_mode": {
    "name": "ipython",
    "version": 3
   },
   "file_extension": ".py",
   "mimetype": "text/x-python",
   "name": "python",
   "nbconvert_exporter": "python",
   "pygments_lexer": "ipython3",
   "version": "3.6.9"
  }
 },
 "nbformat": 4,
 "nbformat_minor": 2
}
