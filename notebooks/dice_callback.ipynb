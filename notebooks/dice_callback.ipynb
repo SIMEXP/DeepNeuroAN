{
 "cells": [
  {
   "cell_type": "code",
   "execution_count": 1,
   "metadata": {},
   "outputs": [
    {
     "name": "stderr",
     "output_type": "stream",
     "text": [
      "/home/ltetrel/.local/lib/python3.6/site-packages/sklearn/externals/joblib/__init__.py:15: DeprecationWarning: sklearn.externals.joblib is deprecated in 0.21 and will be removed in 0.23. Please import this functionality directly from joblib, which can be installed with: pip install joblib. If this warning is raised when loading pickled models, you may need to re-serialize those models with scikit-learn 0.21+.\n",
      "  warnings.warn(msg, category=DeprecationWarning)\n",
      "WARNING: Logging before flag parsing goes to stderr.\n",
      "E0121 16:40:39.484973 140290086209344 due.py:63] Failed to import duecredit due to No module named 'duecredit'\n"
     ]
    }
   ],
   "source": [
    "import sys\n",
    "import os\n",
    "import warnings\n",
    "import numpy as np\n",
    "import tensorflow as tf\n",
    "import SimpleITK as sitk\n",
    "from nilearn import image, plotting\n",
    "import nibabel as nib\n",
    "import matplotlib.pyplot as plt\n",
    "\n",
    "sys.path.append(\"../\")\n",
    "sys.path.append(\"../deepneuroan\")\n",
    "warnings.filterwarnings('ignore')\n",
    "\n",
    "from deepneuroan.data_generator import DataGenerator\n",
    "from deepneuroan.models import ChannelwiseConv3D, rigid_concatenated\n",
    "from deepneuroan.generate_train_data import transform_volume\n",
    "from deepneuroan.preproc import create_ref_grid, get_mni152_affine_nib, get_mni152_affine_itk"
   ]
  },
  {
   "cell_type": "code",
   "execution_count": 2,
   "metadata": {},
   "outputs": [],
   "source": [
    "data_dir = \"/home/ltetrel/Documents/data/neuromod/derivatives/deepneuroan/training/generated_data/\"\n",
    "template_filepath = os.path.join(data_dir, \"template_on_grid\")\n",
    "\n",
    "list_files = []\n",
    "list_files_tmp = set([])\n",
    "for root, _, files in os.walk(data_dir):\n",
    "    for file in files:\n",
    "        filepath = os.path.join(root, file).split('.')[0]\n",
    "        if os.path.exists(filepath + \".txt\"):\n",
    "            list_files_tmp.add(filepath)\n",
    "list_files = list(list_files_tmp)\n",
    "\n",
    "bs = 2\n",
    "ncpu = 1\n",
    "np.random.seed(0)\n",
    "params_gen = dict(list_files=list_files, template_file=template_filepath, batch_size=bs, avail_cores=ncpu)\n",
    "valid_gen = DataGenerator(partition=\"valid\", **params_gen)"
   ]
  },
  {
   "cell_type": "code",
   "execution_count": 3,
   "metadata": {},
   "outputs": [],
   "source": [
    "with open(\"/home/ltetrel/Documents/data/neuromod/derivatives/deepneuroan/training/rigid_concatenated_2020-01-17_22:26:33.json\", \"r\") as json_file:\n",
    "    model = tf.keras.models.model_from_json(json_file.read(), custom_objects={'ChannelwiseConv3D': ChannelwiseConv3D})\n",
    "model.load_weights(\"/home/ltetrel/Documents/data/neuromod/derivatives/deepneuroan/training/checkpoints/rigid_concatenated_best/rigid_concatenated_cp-0250.ckpt\")\n",
    "model.compile(optimizer=tf.keras.optimizers.Adam(lr=0.01)\n",
    "                  , loss=tf.keras.losses.mean_squared_error\n",
    "                  , metrics=[\"mae\"])"
   ]
  },
  {
   "cell_type": "code",
   "execution_count": 4,
   "metadata": {},
   "outputs": [],
   "source": [
    "ref_grid = create_ref_grid()\n",
    "\n",
    "# tmp\n",
    "batch = 0\n",
    "\n",
    "moving = valid_gen.__getitem__(0)[0][:, :, :, :,0][batch,]\n",
    "fixed = valid_gen.__getitem__(0)[0][:, :, :, :,1][batch,]\n",
    "pred = sitk.GetImageFromArray(moving)\n",
    "pred.SetOrigin(ref_grid.GetOrigin())\n",
    "pred.SetSpacing(ref_grid.GetSpacing())\n",
    "pred.SetDirection(ref_grid.GetDirection())\n",
    "# t_rigid = model.predict(x=valid_gen.__getitem__(0)[0], use_multiprocessing=False, verbose=0)[batch,]\n",
    "t_rigid = valid_gen.__getitem__(0)[1][batch,]\n",
    "registered_pred = transform_volume(pred, ref_grid, interp=sitk.sitkBSplineResampler, rigid=t_rigid)\n",
    "pred_mask = sitk.GetArrayFromImage(registered_pred) > 0\n",
    "truth_mask = fixed > 0\n",
    "# for i in range(all_gen.__len__()):\n",
    "#     fixed = valid_gen.__getitem__(0)[0][:, :, :, :,0]\n",
    "#     moving = valid_gen.__getitem__(0)[0][:, :, :, :,1]\n",
    "#     for batch in range(valid_gen.batch_size):\n",
    "#         sitk.GetImageFromArray(valid_gen.__getitem__(0)[0][:, :, :, :,0])\n",
    "#         pred = sitk.Image(ref_grid.GetSize(), ref_grid.GetPixelIDValue())\n",
    "#         pred.SetOrigin(ref_grid.GetOrigin())\n",
    "#         pred.SetSpacing(ref_grid.GetSpacing())\n",
    "#         pred.SetDirection(ref_grid.GetDirection())"
   ]
  },
  {
   "cell_type": "code",
   "execution_count": 5,
   "metadata": {},
   "outputs": [],
   "source": [
    "sitk.WriteImage(registered_pred, \"registered_pred.nii.gz\")\n",
    "tmp = sitk.GetImageFromArray(fixed)\n",
    "tmp.SetOrigin(ref_grid.GetOrigin())\n",
    "tmp.SetSpacing(ref_grid.GetSpacing())\n",
    "tmp.SetDirection(ref_grid.GetDirection())\n",
    "sitk.WriteImage(tmp, \"fixed.nii.gz\")"
   ]
  },
  {
   "cell_type": "code",
   "execution_count": 6,
   "metadata": {},
   "outputs": [
    {
     "name": "stdout",
     "output_type": "stream",
     "text": [
      "3747738\n",
      "3908808\n"
     ]
    },
    {
     "data": {
      "text/plain": [
       "0.9587930748215121"
      ]
     },
     "execution_count": 6,
     "metadata": {},
     "output_type": "execute_result"
    }
   ],
   "source": [
    "def dice_loss(y_true, y_pred):\n",
    "  \n",
    "    numerator = 2 * np.sum(y_true * y_pred)\n",
    "    denominator = np.sum(y_true) + np.sum(y_pred)\n",
    "    print(numerator)\n",
    "    print(denominator)\n",
    "    \n",
    "    return (numerator + 1) / (denominator + 1)\n",
    "\n",
    "dice_loss(truth_mask, pred_mask)"
   ]
  },
  {
   "cell_type": "code",
   "execution_count": 7,
   "metadata": {},
   "outputs": [
    {
     "data": {
      "text/plain": [
       "array([[  -1.,    0.,    0.,  109.],\n",
       "       [   0.,    1.,    0., -127.],\n",
       "       [   0.,    0.,    1.,  -91.],\n",
       "       [   0.,    0.,    0.,    1.]])"
      ]
     },
     "execution_count": 7,
     "metadata": {},
     "output_type": "execute_result"
    }
   ],
   "source": [
    "nib_img = nib.load(\"/home/ltetrel/Documents/data/neuromod/derivatives/deepneuroan/training/generated_data/ses-vid001_task-video_run-01_bold_vol-0127_transfo-000001.nii.gz\")\n",
    "nib_img.get_affine()"
   ]
  },
  {
   "cell_type": "code",
   "execution_count": 8,
   "metadata": {},
   "outputs": [
    {
     "name": "stdout",
     "output_type": "stream",
     "text": [
      "(1.0, 0.0, 0.0, 0.0, -1.0, 0.0, 0.0, 0.0, 1.0)\n",
      "(1.0, 1.0, 1.0)\n",
      "(-109.0, 127.0, -91.0)\n",
      "(220, 220, 220)\n"
     ]
    }
   ],
   "source": [
    "itk_img = sitk.ReadImage(\"/home/ltetrel/Documents/data/neuromod/derivatives/deepneuroan/training/generated_data/ses-vid001_task-video_run-01_bold_vol-0127_transfo-000001.nii.gz\")\n",
    "print(itk_img.GetDirection())\n",
    "print(itk_img.GetSpacing())\n",
    "print(itk_img.GetOrigin())\n",
    "print(itk_img.GetSize())"
   ]
  },
  {
   "cell_type": "code",
   "execution_count": 9,
   "metadata": {},
   "outputs": [
    {
     "name": "stdout",
     "output_type": "stream",
     "text": [
      "0.2654323816679189\n"
     ]
    }
   ],
   "source": [
    "nib_data = nib_img.get_data()\n",
    "itk_data = sitk.GetArrayFromImage(itk_img)\n",
    "# recreated_sitk = sitk.GetImageFromArray(nib_data)\n",
    "# recreated_sitk.SetOrigin(ref_grid.GetOrigin())\n",
    "# recreated_sitk.SetSpacing(ref_grid.GetSpacing())\n",
    "# recreated_sitk.SetDirection(ref_grid.GetDirection())\n",
    "# itk_data = sitk.GetArrayFromImage(recreated_sitk)\n",
    "mask = nib_data != itk_data\n",
    "print(np.sum(mask)/(nib_data.shape[0] * nib_data.shape[1] * nib_data.shape[2]))"
   ]
  },
  {
   "cell_type": "code",
   "execution_count": 14,
   "metadata": {},
   "outputs": [
    {
     "data": {
      "text/plain": [
       "(array([1.012909e+06, 1.252790e+05, 3.481440e+05, 1.135249e+06,\n",
       "        1.843670e+05, 1.706400e+04, 3.289000e+03, 1.200000e+01,\n",
       "        7.000000e+00, 4.000000e+00]),\n",
       " array([    0.   ,  3045.863,  6091.726,  9137.589, 12183.452, 15229.315,\n",
       "        18275.178, 21321.041, 24366.904, 27412.768, 30458.63 ],\n",
       "       dtype=float32),\n",
       " <a list of 10 Patch objects>)"
      ]
     },
     "execution_count": 14,
     "metadata": {},
     "output_type": "execute_result"
    },
    {
     "data": {
      "image/png": "[encoded data removed]",
      "text/plain": [
       "<Figure size 432x288 with 1 Axes>"
      ]
     },
     "metadata": {
      "needs_background": "light"
     },
     "output_type": "display_data"
    }
   ],
   "source": [
    "plt.hist(itk_data[mask])"
   ]
  },
  {
   "cell_type": "code",
   "execution_count": 15,
   "metadata": {},
   "outputs": [
    {
     "data": {
      "text/plain": [
       "(array([1.012909e+06, 1.252790e+05, 3.481440e+05, 1.135249e+06,\n",
       "        1.843670e+05, 1.706400e+04, 3.289000e+03, 1.200000e+01,\n",
       "        7.000000e+00, 4.000000e+00]),\n",
       " array([    0.   ,  3045.863,  6091.726,  9137.589, 12183.452, 15229.315,\n",
       "        18275.178, 21321.041, 24366.904, 27412.768, 30458.63 ],\n",
       "       dtype=float32),\n",
       " <a list of 10 Patch objects>)"
      ]
     },
     "execution_count": 15,
     "metadata": {},
     "output_type": "execute_result"
    },
    {
     "data": {
      "image/png": "[encoded data removed]",
      "text/plain": [
       "<Figure size 432x288 with 1 Axes>"
      ]
     },
     "metadata": {
      "needs_background": "light"
     },
     "output_type": "display_data"
    }
   ],
   "source": [
    "plt.hist(nib_data[mask])"
   ]
  },
  {
   "cell_type": "code",
   "execution_count": 12,
   "metadata": {},
   "outputs": [],
   "source": [
    "fixed = nib.Nifti1Image(fixed, get_mni152_affine_nib())\n",
    "pred = nib.Nifti1Image(registered_pred, get_mni152_affine_nib())"
   ]
  },
  {
   "cell_type": "code",
   "execution_count": 13,
   "metadata": {},
   "outputs": [
    {
     "data": {
      "image/png": "[encoded data removed]",
      "text/plain": [
       "<Figure size 475.2x187.2 with 4 Axes>"
      ]
     },
     "metadata": {},
     "output_type": "display_data"
    }
   ],
   "source": [
    "display = plotting.plot_anat(fixed)\n",
    "display.add_edges(pred)"
   ]
  },
  {
   "cell_type": "code",
   "execution_count": null,
   "metadata": {},
   "outputs": [],
   "source": []
  }
 ],
 "metadata": {
  "kernelspec": {
   "display_name": "Python 3",
   "language": "python",
   "name": "python3"
  },
  "language_info": {
   "codemirror_mode": {
    "name": "ipython",
    "version": 3
   },
   "file_extension": ".py",
   "mimetype": "text/x-python",
   "name": "python",
   "nbconvert_exporter": "python",
   "pygments_lexer": "ipython3",
   "version": "3.6.9"
  }
 },
 "nbformat": 4,
 "nbformat_minor": 2
}
