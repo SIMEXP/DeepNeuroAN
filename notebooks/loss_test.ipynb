{
 "cells": [
  {
   "cell_type": "code",
   "execution_count": 6,
   "metadata": {},
   "outputs": [],
   "source": [
    "import tensorflow as tf"
   ]
  },
  {
   "cell_type": "code",
   "execution_count": 90,
   "metadata": {},
   "outputs": [],
   "source": [
    "def loss(y_pred, y_true):\n",
    "    lag_mult = 1\n",
    "    \n",
    "    #mse loss\n",
    "    mse_loss = tf.math.reduce_mean(tf.math.squared_difference(y_pred, y_true))\n",
    "    \n",
    "    # penalty for non-unit quaternions\n",
    "    penalty_norm = lag_mult * tf.math.abs(tf.linalg.norm(y_pred[:4]) - 1)\n",
    "\n",
    "    # penalty for negative quaternion\n",
    "    penalty_negative = lag_mult * tf.math.reduce_sum( tf.cast(y_pred[:4]<0, dtype=tf.float32) )\n",
    "\n",
    "    return mse_loss + penalty_norm + penalty_negative, mse_loss, penalty_norm, penalty_negative"
   ]
  },
  {
   "cell_type": "code",
   "execution_count": 92,
   "metadata": {},
   "outputs": [
    {
     "name": "stdout",
     "output_type": "stream",
     "text": [
      "total_loss : 1.428571\n",
      "\n",
      "mse_loss : 0.428571\n",
      "\n",
      "penalty_norm : 0.000000\n",
      "\n",
      "penalty_unitary : 1.000000\n",
      "\n"
     ]
    }
   ],
   "source": [
    "y_pred = tf.constant([-1, 0., 0., 0., 2., 2., 2.])\n",
    "y_true = tf.constant([0.5, 0.5, 0.5, 0.5, 2., 2., 2.])\n",
    "\n",
    "st = [\"total_loss : %f\\n\", \"mse_loss : %f\\n\", \"penalty_norm : %f\\n\", \"penalty_unitary : %f\\n\"]\n",
    "for i in range(4):\n",
    "    print(st[i] %loss(y_pred, y_true)[i])"
   ]
  },
  {
   "cell_type": "code",
   "execution_count": 68,
   "metadata": {},
   "outputs": [
    {
     "name": "stdout",
     "output_type": "stream",
     "text": [
      "tf.Tensor([False False False False  True  True  True], shape=(7,), dtype=bool)\n"
     ]
    }
   ],
   "source": [
    "print(tf.math.logical_or(y_pred<0, y_pred>1))"
   ]
  },
  {
   "cell_type": "code",
   "execution_count": null,
   "metadata": {},
   "outputs": [],
   "source": []
  }
 ],
 "metadata": {
  "kernelspec": {
   "display_name": "Python 3",
   "language": "python",
   "name": "python3"
  },
  "language_info": {
   "codemirror_mode": {
    "name": "ipython",
    "version": 3
   },
   "file_extension": ".py",
   "mimetype": "text/x-python",
   "name": "python",
   "nbconvert_exporter": "python",
   "pygments_lexer": "ipython3",
   "version": "3.6.9"
  }
 },
 "nbformat": 4,
 "nbformat_minor": 2
}
