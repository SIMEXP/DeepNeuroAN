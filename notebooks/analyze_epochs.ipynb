{
 "cells": [
  {
   "cell_type": "code",
   "execution_count": 14,
   "metadata": {},
   "outputs": [],
   "source": [
    "import re\n",
    "import math\n",
    "import numpy as np\n",
    "import matplotlib.pyplot as plt"
   ]
  },
  {
   "cell_type": "code",
   "execution_count": 15,
   "metadata": {},
   "outputs": [],
   "source": [
    "with open(\"/home/ltetrel/Documents/work/DeepNeuroAN/notebooks/epochs_mae\", 'r') as f:\n",
    "    X = f.readlines()"
   ]
  },
  {
   "cell_type": "code",
   "execution_count": 16,
   "metadata": {},
   "outputs": [],
   "source": [
    "values = {'mae':[], 'val_mae':[], 'loss':[], 'val_loss':[]}\n",
    "match_float = \"[+-]?[0-9]*[.]?[0-9]+\"\n",
    "idx = 0\n",
    "for x in enumerate(X):\n",
    "    if re.match(\".*?mae: (\" + match_float + \").*?val_mae: (\" + \").*?\", x[1]):\n",
    "        matches = re.match(\".*?loss: (\" + match_float + \").*?mae: (\" + match_float + \").*?val_loss: (\" + match_float + \").*?val_mae: (\" + match_float + \").*?\", x[1])\n",
    "        values['loss'] += [float(matches.group(1))]\n",
    "        values['mae'] += [float(matches.group(2))]\n",
    "        values['val_loss'] += [float(matches.group(3))]\n",
    "        values['val_mae'] += [float(matches.group(4))]\n",
    "        idx = idx + 1"
   ]
  },
  {
   "cell_type": "code",
   "execution_count": 18,
   "metadata": {},
   "outputs": [
    {
     "data": {
      "text/plain": [
       "<matplotlib.legend.Legend at 0x7fee83978d30>"
      ]
     },
     "execution_count": 18,
     "metadata": {},
     "output_type": "execute_result"
    }
   ],
   "source": [
    "%matplotlib qt\n",
    "plt.figure(0)\n",
    "plt.xlabel(\"epochs\")\n",
    "plt.semilogy(values['mae'])\n",
    "# plt.semilogy(values['loss'])\n",
    "plt.legend([\"mae\", \"loss\"])\n",
    "\n",
    "plt.figure(1)\n",
    "plt.xlabel(\"epochs\")\n",
    "plt.semilogy(values['val_mae'])\n",
    "# plt.semilogy(values['val_loss'])\n",
    "plt.legend([\"val_mae\", \"val_loss\"])"
   ]
  },
  {
   "cell_type": "code",
   "execution_count": null,
   "metadata": {},
   "outputs": [],
   "source": []
  }
 ],
 "metadata": {
  "kernelspec": {
   "display_name": "Python 3.6.9 64-bit",
   "language": "python",
   "name": "python36964bit846556aa804c42d1b0e6767fb7b319e5"
  },
  "language_info": {
   "codemirror_mode": {
    "name": "ipython",
    "version": 3
   },
   "file_extension": ".py",
   "mimetype": "text/x-python",
   "name": "python",
   "nbconvert_exporter": "python",
   "pygments_lexer": "ipython3",
   "version": "3.6.9"
  }
 },
 "nbformat": 4,
 "nbformat_minor": 2
}
