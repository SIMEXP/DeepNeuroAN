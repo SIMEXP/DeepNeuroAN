{
 "cells": [
  {
   "cell_type": "code",
   "execution_count": 1,
   "metadata": {},
   "outputs": [],
   "source": [
    "import os\n",
    "import shutil\n",
    "import re\n",
    "import numpy as np"
   ]
  },
  {
   "cell_type": "code",
   "execution_count": 2,
   "metadata": {},
   "outputs": [],
   "source": [
    "data_dir = \"/home/ltetrel/Documents/data/preventad_prep/derivatives/\"\n",
    "qc_filename = \"preventAD_qc2.csv\""
   ]
  },
  {
   "cell_type": "code",
   "execution_count": 3,
   "metadata": {},
   "outputs": [],
   "source": [
    "# creation of output directory if it does not exists\n",
    "if not os.path.exists(os.path.join(data_dir, \"deepneuroan\", \"preprocess\", \"transfs\")):\n",
    "    os.makedirs(os.path.join(data_dir, \"deepneuroan\", \"preprocess\", \"transfs\"))"
   ]
  },
  {
   "cell_type": "code",
   "execution_count": 4,
   "metadata": {},
   "outputs": [],
   "source": [
    "# creation of a list of participants scan that passed the QC\n",
    "to_match_qc = \"(s[0-9]{6}).*?Pass.*?\"\n",
    "part_pass = []\n",
    "with open(os.path.join(data_dir, \"niak\", qc_filename)) as f:\n",
    "    lines = f.readlines()\n",
    "    for idx, line in enumerate(lines):\n",
    "        match = re.match(to_match_qc, line)\n",
    "        if match is not None:\n",
    "            part_pass += [match[1]]"
   ]
  },
  {
   "cell_type": "code",
   "execution_count": 5,
   "metadata": {},
   "outputs": [],
   "source": [
    "to_match_affine = \".*?([-+]?[0-9]*\\.?[0-9]+)\"\n",
    "to_match_affine = to_match_affine + to_match_affine + to_match_affine + to_match_affine + \".*?\"\n",
    "\n",
    "# We look through all the files that passed the QC\n",
    "for idx, part in enumerate(part_pass):\n",
    "    affine = np.eye(4)\n",
    "    filepath = os.path.join(data_dir\n",
    "                            , \"niak\"\n",
    "                            , \"transfs\"\n",
    "                            , \"transf_%s_nativet1_to_stereolin.xfm\" %part)\n",
    "    with open(filepath) as f:\n",
    "        data = f.readlines()\n",
    "        for i in range(3):\n",
    "            matches = re.match(to_match_affine, data[-3+i])\n",
    "            affine[i,:] = np.array([float(matches[1])\n",
    "                                    , float(matches[2])\n",
    "                                    , float(matches[3])\n",
    "                                    , float(matches[4])])\n",
    "    dst_file_path = os.path.join(data_dir\n",
    "                                 , \"deepneuroan\"\n",
    "                                 , \"preprocess\"\n",
    "                                 , \"transfs\"\n",
    "                                 , part + \"_t1_to_MNI152.txt\")\n",
    "    np.savetxt(dst_file_path, affine)"
   ]
  },
  {
   "cell_type": "code",
   "execution_count": 6,
   "metadata": {},
   "outputs": [
    {
     "data": {
      "text/plain": [
       "array([[ 1.12451291e+00,  3.14974971e-02,  8.80045909e-03,\n",
       "         2.59616828e+00],\n",
       "       [-3.17950957e-02,  1.00138319e+00,  4.78717238e-01,\n",
       "        -1.62973213e+01],\n",
       "       [ 6.18237257e-03, -5.31435251e-01,  1.11206949e+00,\n",
       "         1.68126297e+00],\n",
       "       [ 0.00000000e+00,  0.00000000e+00,  0.00000000e+00,\n",
       "         1.00000000e+00]])"
      ]
     },
     "execution_count": 6,
     "metadata": {},
     "output_type": "execute_result"
    }
   ],
   "source": [
    "np.loadtxt(dst_file_path)"
   ]
  },
  {
   "cell_type": "code",
   "execution_count": 7,
   "metadata": {},
   "outputs": [
    {
     "data": {
      "text/plain": [
       "array([[ 1.12451291e+00,  3.14974971e-02,  8.80045909e-03,\n",
       "         2.59616828e+00],\n",
       "       [-3.17950957e-02,  1.00138319e+00,  4.78717238e-01,\n",
       "        -1.62973213e+01],\n",
       "       [ 6.18237257e-03, -5.31435251e-01,  1.11206949e+00,\n",
       "         1.68126297e+00],\n",
       "       [ 0.00000000e+00,  0.00000000e+00,  0.00000000e+00,\n",
       "         1.00000000e+00]])"
      ]
     },
     "execution_count": 7,
     "metadata": {},
     "output_type": "execute_result"
    }
   ],
   "source": [
    "affine"
   ]
  }
 ],
 "metadata": {
  "kernelspec": {
   "display_name": "Python 3",
   "language": "python",
   "name": "python3"
  },
  "language_info": {
   "codemirror_mode": {
    "name": "ipython",
    "version": 3
   },
   "file_extension": ".py",
   "mimetype": "text/x-python",
   "name": "python",
   "nbconvert_exporter": "python",
   "pygments_lexer": "ipython3",
   "version": "3.6.7"
  }
 },
 "nbformat": 4,
 "nbformat_minor": 2
}
