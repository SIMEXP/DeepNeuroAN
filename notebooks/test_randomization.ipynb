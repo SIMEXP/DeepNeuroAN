{
 "cells": [
  {
   "cell_type": "code",
   "execution_count": 1,
   "metadata": {},
   "outputs": [],
   "source": [
    "import math\n",
    "from pyquaternion import Quaternion\n",
    "import numpy as np\n",
    "import matplotlib.pyplot as plt\n",
    "from scipy import stats\n",
    "%matplotlib inline"
   ]
  },
  {
   "cell_type": "code",
   "execution_count": 77,
   "metadata": {},
   "outputs": [],
   "source": [
    "# np.random.seed(0)\n",
    "angle = math.pi/64\n",
    "range_mm = 5\n",
    "\n",
    "p_outliers = 0.05\n",
    "rnd = np.random.randn(10, 10000, 6)\n",
    "# creating the randomization for the p outliers\n",
    "n_outliers = int(np.ceil(p_outliers*rnd.shape[1]))\n",
    "rnd_uniform = np.random.rand(rnd.shape[0], n_outliers, 6)\n",
    "\n",
    "# gaussian sampling for little angles : sampling in tangent around space unit quaternion exponential\n",
    "# https://math.stackexchange.com/questions/473736/small-angular-displacements-with-a-quaternion-representation\n",
    "\n",
    "# p of the samples (outliers) will be over angle range, multiplied by a factor to correct the asymetry\n",
    "sigma_outliers = stats.norm.ppf(1-p_outliers/2)\n",
    "sigma = (angle / sigma_outliers) * 0.615\n",
    "\n",
    "R = np.zeros((rnd.shape[0], rnd.shape[1], 3))\n",
    "R = rnd[:, :, :3] * sigma\n",
    "theta = np.linalg.norm(R, axis=2)\n",
    "theta = theta/2\n",
    "Q = np.zeros((rnd.shape[0], rnd.shape[1], 4))\n",
    "Q[:,:,0] = np.cos(theta)\n",
    "Q[:,:,1::] = R * np.dstack([(1/theta)*np.sin(theta)]*3)\n",
    "\n",
    "# randomly sampling p outliers quaternions using uniform law\n",
    "# http://planning.cs.uiuc.edu/node198.html\n",
    "R_uniform = np.zeros((rnd_uniform.shape[0], rnd_uniform.shape[1], 3))\n",
    "R_uniform = rnd_uniform[:, :, :3]\n",
    "Q_uniform = np.zeros((rnd_uniform.shape[0], rnd_uniform.shape[1], 4))\n",
    "Q_uniform = np.dstack(( np.sqrt(1.0 - R_uniform[:,:,0]) * (np.sin(2 * math.pi * R_uniform[:,:,1]))\n",
    "                      , np.sqrt(1.0 - R_uniform[:,:,0]) * (np.cos(2 * math.pi * R_uniform[:,:,1]))\n",
    "                      , np.sqrt(R_uniform[:,:,0])       * (np.sin(2 * math.pi * R_uniform[:,:,2]))\n",
    "                      , np.sqrt(R_uniform[:,:,0])       * (np.cos(2 * math.pi * R_uniform[:,:,2])) ))\n",
    "\n",
    "# now we can replace the outliers on the original quaternion matrix Q\n",
    "angles = 2*np.arccos(Q[:,:,0])\n",
    "logic = np.zeros((10,10000), dtype=bool)        \n",
    "logic_Q = np.argsort(angles, axis=1)[:,-rnd_uniform.shape[1]:]\n",
    "for ii in range(logic_Q.shape[0]):\n",
    "    logic[ii,:] = np.isin(range(rnd.shape[1]), logic_Q[ii, :])\n",
    "logic = np.dstack([logic]*4)  \n",
    "Q[logic] = Q_uniform.flatten()"
   ]
  },
  {
   "cell_type": "code",
   "execution_count": 78,
   "metadata": {},
   "outputs": [
    {
     "name": "stdout",
     "output_type": "stream",
     "text": [
      "351.37426751774774\n",
      "mean 10.224768\n",
      "percentile 95% 2.719488\n"
     ]
    },
    {
     "data": {
      "image/png": "[encoded data removed]",
      "text/plain": [
       "<Figure size 432x288 with 1 Axes>"
      ]
     },
     "metadata": {
      "needs_background": "light"
     },
     "output_type": "display_data"
    }
   ],
   "source": [
    "angles = 2*np.arccos(Q[:,:,0])\n",
    "print(np.max(angles*180/math.pi))\n",
    "print(\"mean %f\" %(np.mean(angles.flatten())*180/math.pi))\n",
    "print(\"percentile 95%% %f\" %np.percentile(angles.flatten()*180/math.pi, 95))\n",
    "plt.hist(angles.flatten()*180/math.pi, 1000)\n",
    "plt.show()"
   ]
  },
  {
   "cell_type": "code",
   "execution_count": null,
   "metadata": {},
   "outputs": [],
   "source": [
    "np.max(angles*180/math.pi)"
   ]
  },
  {
   "cell_type": "code",
   "execution_count": null,
   "metadata": {},
   "outputs": [],
   "source": [
    "i = np.random.randint(10)\n",
    "j = np.random.randint(10000)\n",
    "q = Quaternion([h1[i,j], h2[i,j], h3[i,j], h4[i,j]])\n",
    "print(np.array(q.yaw_pitch_roll) * 180/np.pi)\n",
    "angles = 2*np.arccos(h1)\n",
    "print(angles[i,j] * 180/np.pi)"
   ]
  },
  {
   "cell_type": "code",
   "execution_count": null,
   "metadata": {},
   "outputs": [],
   "source": [
    "t = 2*np.arccos(h1) * 180/np.pi\n",
    "print(\"%d valid under 45deg\" %np.sum(t>45))"
   ]
  },
  {
   "cell_type": "code",
   "execution_count": null,
   "metadata": {},
   "outputs": [],
   "source": [
    "def q_rotate(q, rad):\n",
    "    rad = np.abs(rad)\n",
    "    theta = 2 * np.arccos(q[0])\n",
    "    vec = q[1::]/np.sin(theta/2)\n",
    "    # we want to rotate the same quaternion\n",
    "    vec = -vec\n",
    "    q1 = np.array([np.cos(rad/2)\n",
    "         , vec[0]*np.sin(rad/2)\n",
    "         , vec[1]*np.sin(rad/2)\n",
    "         , vec[2]*np.sin(rad/2)])\n",
    "    q2 = q_multiply(q,q1)\n",
    "    return q2\n",
    "\n",
    "def q_multiply(q0, q1):\n",
    "    w0, x0, y0, z0 = q0\n",
    "    w1, x1, y1, z1 = q1\n",
    "    q = [-x1 * x0 - y1 * y0 - z1 * z0 + w1 * w0\n",
    "          , x1 * w0 + y1 * z0 - z1 * y0 + w1 * x0\n",
    "          , -x1 * z0 + y1 * w0 + z1 * x0 + w1 * y0\n",
    "          ,  x1 * y0 - y1 * x0 + z1 * w0 + w1 * z0]\n",
    "    return q"
   ]
  },
  {
   "cell_type": "code",
   "execution_count": null,
   "metadata": {},
   "outputs": [],
   "source": [
    "alpha = np.pi/2\n",
    "q = [np.cos(alpha/2), 1*np.sin(alpha/2), 0*np.sin(alpha/2), 0*np.sin(alpha/2)]\n",
    "print(\"original \" + str(q))\n",
    "print( \"angle %f\" %(2 * np.arccos(q[0])* 180/np.pi))\n",
    "\n",
    "q_res = q_rotate(q, np.pi/2)\n",
    "print( \"results \" + str(q_res))\n",
    "print( \"angle %f\" %(2 * np.arccos(q_res[0])* 180/np.pi))\n",
    "\n"
   ]
  },
  {
   "cell_type": "code",
   "execution_count": null,
   "metadata": {},
   "outputs": [],
   "source": [
    "x = np.random.randn(3)\n",
    "theta = np.linalg.norm(x)\n",
    "q_exp=[np.cos(theta/2)\n",
    "       , (1/theta)*np.sin(theta/2)*x[0]\n",
    "       , (1/theta)*np.sin(theta/2)*x[1]\n",
    "       , (1/theta)*np.sin(theta/2)*x[2] ]\n",
    "print(x*(1/theta))\n",
    "print( \"results \" + str(q_exp))\n",
    "print( \"angle %f\" %(2 * np.arccos(q_exp[0])* 180/np.pi))"
   ]
  },
  {
   "cell_type": "code",
   "execution_count": null,
   "metadata": {},
   "outputs": [],
   "source": [
    "[np.cos(np.pi/2), vec*np.sin(np.pi/2)]"
   ]
  },
  {
   "cell_type": "code",
   "execution_count": null,
   "metadata": {},
   "outputs": [],
   "source": [
    "list([np.cos(np.pi/2), vec*np.sin(np.pi/2)])"
   ]
  },
  {
   "cell_type": "code",
   "execution_count": null,
   "metadata": {},
   "outputs": [],
   "source": []
  }
 ],
 "metadata": {
  "kernelspec": {
   "display_name": "Python 3",
   "language": "python",
   "name": "python3"
  },
  "language_info": {
   "codemirror_mode": {
    "name": "ipython",
    "version": 3
   },
   "file_extension": ".py",
   "mimetype": "text/x-python",
   "name": "python",
   "nbconvert_exporter": "python",
   "pygments_lexer": "ipython3",
   "version": "3.6.8"
  }
 },
 "nbformat": 4,
 "nbformat_minor": 2
}
