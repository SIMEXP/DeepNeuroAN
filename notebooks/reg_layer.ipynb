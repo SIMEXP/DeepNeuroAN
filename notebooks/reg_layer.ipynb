{
 "cells": [
  {
   "cell_type": "code",
   "execution_count": 2,
   "metadata": {},
   "outputs": [],
   "source": [
    "import os, sys\n",
    "sys.path.append('/home/ltetrel/DeepNeuroAN/deepneuroan/')\n",
    "sys.path.append('/home/ltetrel/DeepNeuroAN/')\n",
    "\n",
    "import numpy as np\n",
    "import tensorflow as tf\n",
    "\n",
    "from preproc import create_ref_grid\n",
    "import deepneuroan.utils as utils\n",
    "import SimpleITK as sitk\n",
    "\n",
    "tf.keras.backend.clear_session()"
   ]
  },
  {
   "cell_type": "code",
   "execution_count": 3,
   "metadata": {},
   "outputs": [],
   "source": [
    "# inputs creation   \n",
    "batch_size = 10\n",
    "x = np.empty((batch_size, 220, 220, 220), dtype=np.float64)\n",
    "trf = np.empty((batch_size, 7), dtype=np.float64)\n",
    "data_dir = \"./data\"\n",
    "\n",
    "for i in range(batch_size):\n",
    "    x[i,] = sitk.GetArrayFromImage(sitk.ReadImage(data_dir + \"/ses-vid001_task-video_run-01_bold_vol-0001_transfo-%06d.nii.gz\" %(i+1)\n",
    "                                   , sitk.sitkFloat64))\n",
    "\n",
    "    trf[i,] = utils.load_trf_file(data_dir + \"/ses-vid001_task-video_run-01_bold_vol-0001_transfo-%06d.txt\" %(i+1))\n",
    "    \n",
    "    # Inversing quaternions to compare volumes with base one\n",
    "    q = sitk.VersorRigid3DTransform([trf[i, 1], trf[i, 2], trf[i, 3], trf[i, 0]])\n",
    "    t = sitk.TranslationTransform(3, tuple(trf[i, 4:]))\n",
    "    q.SetTranslation(t.GetOffset())\n",
    "    q = q.GetInverse().GetParameters()\n",
    "    trf[i, 1:4] = [-trf[i, 1], -trf[i, 2], -trf[i, 3]]\n",
    "    trf[i, 4:] = q[3:]"
   ]
  },
  {
   "cell_type": "code",
   "execution_count": 4,
   "metadata": {},
   "outputs": [],
   "source": [
    "class LinearTransformation(tf.keras.layers.Layer):\n",
    "    def __init__(self, **kwargs):\n",
    "        self.trainable = False\n",
    "        super(self.__class__, self).__init__(**kwargs)\n",
    "\n",
    "    def build(self, input_shape):\n",
    "        assert isinstance(input_shape, list)\n",
    "        if len(input_shape) > 2:\n",
    "            raise Exception(\"LinearRegistration must be called on a list of length 2. \"\n",
    "                            \"First argument is the volume, second is the quaternion transform.\")\n",
    "\n",
    "        super(self.__class__, self).build(input_shape)\n",
    "\n",
    "    def call(self, inputs):\n",
    "        assert isinstance(inputs, list)\n",
    "        \n",
    "        # map transform across batch\n",
    "        return tf.map_fn(self._tf_single_transform, inputs, dtype=tf.float32)\n",
    "            \n",
    "    def compute_output_shape(self, input_shape):\n",
    "        return input_shape[0]   \n",
    "    \n",
    "    def _single_transform(self, src, trf):\n",
    "        ref_grid = create_ref_grid()\n",
    "        \n",
    "        sitk_src = utils.get_sitk_from_numpy(src, ref_grid)\n",
    "        sitk_tgt = utils.transform_volume(sitk_src, ref_grid, rigid=trf)\n",
    "\n",
    "        return sitk.GetArrayFromImage(sitk_tgt)\n",
    "    \n",
    "    @tf.function\n",
    "    def _tf_single_transform(self, inputs): \n",
    "        out = tf.numpy_function(self._single_transform, inp=[inputs[0], inputs[1]], Tout=tf.float32) \n",
    "        return out\n"
   ]
  },
  {
   "cell_type": "code",
   "execution_count": 10,
   "metadata": {},
   "outputs": [
    {
     "name": "stdout",
     "output_type": "stream",
     "text": [
      "10\n"
     ]
    }
   ],
   "source": [
    "src = tf.keras.Input(shape=(220, 220, 220))\n",
    "y = tf.keras.Input(shape=(7))\n",
    "reg_out = LinearTransformation()([src, y])\n",
    "model = tf.keras.Model(inputs=[src, y], outputs=[reg_out])\n",
    "res = model.predict(x=[x, trf], batch_size=2)\n",
    "print(len(res))"
   ]
  },
  {
   "cell_type": "code",
   "execution_count": 5,
   "metadata": {},
   "outputs": [],
   "source": [
    "#saving output\n",
    "!rm data/vol*\n",
    "\n",
    "def save_array_to_sitk(data, name, data_dir):\n",
    "    ref_grid = create_ref_grid()\n",
    "    sitk_img = utils.get_sitk_from_numpy(data, ref_grid)\n",
    "    sitk.WriteImage(sitk_img, os.path.join(data_dir, name + \".nii.gz\"))\n",
    "\n",
    "for vol in range(res.shape[0]):\n",
    "    save_array_to_sitk(data=res[vol,], name=\"vol%02d\" %(vol+1), data_dir=data_dir)"
   ]
  },
  {
   "cell_type": "code",
   "execution_count": null,
   "metadata": {},
   "outputs": [],
   "source": []
  }
 ],
 "metadata": {
  "kernelspec": {
   "display_name": "Python 3",
   "language": "python",
   "name": "python3"
  },
  "language_info": {
   "codemirror_mode": {
    "name": "ipython",
    "version": 3
   },
   "file_extension": ".py",
   "mimetype": "text/x-python",
   "name": "python",
   "nbconvert_exporter": "python",
   "pygments_lexer": "ipython3",
   "version": "3.6.9"
  }
 },
 "nbformat": 4,
 "nbformat_minor": 2
}
