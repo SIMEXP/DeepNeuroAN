{
 "cells": [
  {
   "cell_type": "code",
   "execution_count": null,
   "metadata": {},
   "outputs": [],
   "source": [
    "import os, sys, warnings\n",
    "import numpy as np\n",
    "np.set_printoptions(precision=2)\n",
    "import tensorflow as tf\n",
    "import SimpleITK as sitk\n",
    "\n",
    "sys.path.append(\"../\")\n",
    "sys.path.append(\"../deepneuroan\")\n",
    "sys.path.append('/home/ltetrel/DeepNeuroAN/deepneuroan/')\n",
    "sys.path.append('/home/ltetrel/DeepNeuroAN/')\n",
    "warnings.filterwarnings('ignore')\n",
    "\n",
    "import deepneuroan.utils as utils\n",
    "from deepneuroan.preproc import create_ref_grid\n",
    "from deepneuroan.data_generator import DataGenerator\n",
    "from deepneuroan.models import ChannelwiseConv3D, LinearTransformation\n",
    "from deepneuroan.generate_train_data import generate_random_quaternions, generate_random_transformations, quaternion_from_euler"
   ]
  },
  {
   "cell_type": "code",
   "execution_count": null,
   "metadata": {},
   "outputs": [],
   "source": [
    "# inputs creation   \n",
    "batch_size = 1\n",
    "x = np.empty((batch_size, 220, 220, 220, 1), dtype=np.float64)\n",
    "truth = np.empty((batch_size, 220, 220, 220, 1), dtype=np.float64)\n",
    "trf = np.empty((batch_size, 7), dtype=np.float64)\n",
    "data_dir = \"/home/ltetrel/Documents/data/neuromod/derivatives/deepneuroan/training/generated_data\"\n",
    "target_name = \"ses-game001_task-shinobi1_run-01_bold_vol-0001\"\n",
    "source_name = target_name + \"_transfo-{:06d}\"\n",
    "\n",
    "for i in range(batch_size):\n",
    "    x[i, :, :, :, 0] = sitk.GetArrayFromImage(sitk.ReadImage(os.path.join(data_dir, source_name.format(i+1) + \".nii.gz\"), sitk.sitkFloat64))\n",
    "    truth[i, :, :, :, 0] = sitk.GetArrayFromImage(sitk.ReadImage(os.path.join(data_dir, target_name + \".nii.gz\"), sitk.sitkFloat64))\n",
    "    trf[i,] = utils.load_trf_file(os.path.join(data_dir, source_name.format(i+1) + \".txt\"))\n",
    "    \n",
    "    # Inversing quaternions to compare volumes with base one\n",
    "    trf[i, 1:4] = [-trf[i, 1], -trf[i, 2], -trf[i, 3]]\n",
    "    trf[i, 4:] = (-1)*trf[i, 4:]\n",
    "    "
   ]
  },
  {
   "cell_type": "code",
   "execution_count": null,
   "metadata": {},
   "outputs": [],
   "source": [
    "ref_grid = create_ref_grid()\n",
    "sz_ref = ref_grid.GetSize()\n",
    "min_ref_grid = ref_grid.GetOrigin()\n",
    "max_ref_grid = ref_grid.TransformIndexToPhysicalPoint(sz_ref)\n",
    "params_reg = dict(min_ref_grid=min_ref_grid, max_ref_grid=max_ref_grid, interp_method=\"bilinear\", padding_mode=\"zeros\")"
   ]
  },
  {
   "cell_type": "code",
   "execution_count": null,
   "metadata": {},
   "outputs": [],
   "source": [
    "import time\n",
    "tic = time.time()\n",
    "\n",
    "src = tf.keras.Input(shape=(220, 220, 220, 1))\n",
    "transfo = tf.keras.Input(shape=(7))\n",
    "quaternion = [0.982341, 0.024108, 0.170581, 0.072989]\n",
    "reg_out = LinearTransformation(**params_reg)([src, transfo])\n",
    "model = tf.keras.Model(inputs=[src, transfo], outputs=[reg_out])\n",
    "model.compile()\n",
    "res = model.predict(x=[x, trf], batch_size=1)\n",
    "\n",
    "print(len(res))\n",
    "ElpsTime = time.time() - tic\n",
    "print(\"*** Total %1.3f s ***\"%(ElpsTime))"
   ]
  },
  {
   "cell_type": "code",
   "execution_count": null,
   "metadata": {},
   "outputs": [],
   "source": [
    "#saving output\n",
    "!rm vol*\n",
    "\n",
    "def save_array_to_sitk(data, name, data_dir):\n",
    "    ref_grid = create_ref_grid()\n",
    "    sitk_img = utils.get_sitk_from_numpy(data, ref_grid)\n",
    "    sitk.WriteImage(sitk_img, os.path.join(data_dir, name + \".nii.gz\"))\n",
    "\n",
    "for vol in range(res.shape[0]):\n",
    "    save_array_to_sitk(data=res[vol,], name=\"vol%02d\" %(vol+1), data_dir=\"./\")"
   ]
  },
  {
   "cell_type": "code",
   "execution_count": null,
   "metadata": {},
   "outputs": [],
   "source": []
  }
 ],
 "metadata": {
  "kernelspec": {
   "display_name": "Python 3",
   "language": "python",
   "name": "python3"
  },
  "language_info": {
   "codemirror_mode": {
    "name": "ipython",
    "version": 3
   },
   "file_extension": ".py",
   "mimetype": "text/x-python",
   "name": "python",
   "nbconvert_exporter": "python",
   "pygments_lexer": "ipython3",
   "version": "3.6.9"
  }
 },
 "nbformat": 4,
 "nbformat_minor": 4
}
