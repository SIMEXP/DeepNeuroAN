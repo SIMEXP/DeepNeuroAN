{
 "cells": [
  {
   "cell_type": "code",
   "execution_count": 1,
   "metadata": {},
   "outputs": [
    {
     "name": "stderr",
     "output_type": "stream",
     "text": [
      "Failed to import duecredit due to No module named 'duecredit'\n"
     ]
    }
   ],
   "source": [
    "import sys\n",
    "import os\n",
    "import warnings\n",
    "import numpy as np\n",
    "import tensorflow as tf\n",
    "import SimpleITK as sitk\n",
    "from nilearn import image, plotting\n",
    "import nibabel as nib\n",
    "import matplotlib.pyplot as plt\n",
    "\n",
    "sys.path.append(\"../\")\n",
    "sys.path.append(\"../deepneuroan\")\n",
    "sys.path.append('/home/ltetrel/DeepNeuroAN/deepneuroan/')\n",
    "sys.path.append('/home/ltetrel/DeepNeuroAN/')\n",
    "warnings.filterwarnings('ignore')\n",
    "\n",
    "from deepneuroan.data_generator import DataGenerator\n",
    "from deepneuroan.models import ChannelwiseConv3D, rigid_concatenated\n",
    "import deepneuroan.utils as utils\n",
    "from deepneuroan.preproc import create_ref_grid, get_mni152_affine_nib, get_mni152_affine_itk"
   ]
  },
  {
   "cell_type": "code",
   "execution_count": 35,
   "metadata": {},
   "outputs": [],
   "source": [
    "data_dir = \"/home/ltetrel/Documents/data/neuromod/derivatives/deepneuroan/training/generated_data/\"\n",
    "template_filepath = os.path.join(data_dir, \"template_on_grid\")\n",
    "\n",
    "list_files = []\n",
    "list_files_tmp = set([])\n",
    "for root, _, files in os.walk(data_dir):\n",
    "    for file in files:\n",
    "        filepath = os.path.join(root, file).split('.')[0]\n",
    "        if os.path.exists(filepath + \".txt\"):\n",
    "            list_files_tmp.add(filepath)\n",
    "list_files = list(list_files_tmp)\n",
    "\n",
    "bs = 3\n",
    "ncpu = 1\n",
    "np.random.seed(0)\n",
    "params_gen = dict(list_files=list_files, template_file=template_filepath, batch_size=bs, avail_cores=ncpu)\n",
    "gen = DataGenerator(partition=\"train\", **params_gen)"
   ]
  },
  {
   "cell_type": "code",
   "execution_count": 98,
   "metadata": {},
   "outputs": [
    {
     "name": "stdout",
     "output_type": "stream",
     "text": [
      "['/home/ltetrel/Documents/data/neuromod/derivatives/deepneuroan/training/generated_data/ses-vid001_task-video_run-01_bold_vol-0127_transfo-000001', '/home/ltetrel/Documents/data/neuromod/derivatives/deepneuroan/training/generated_data/ses-vid001_task-video_run-01_bold_vol-0127_transfo-000002', '/home/ltetrel/Documents/data/neuromod/derivatives/deepneuroan/training/generated_data/ses-vid001_task-video_run-01_bold_vol-0127_transfo-000003']\n",
      "(-10.0, 22.0, 17.0)\n"
     ]
    }
   ],
   "source": [
    "ref_grid = create_ref_grid()\n",
    "\n",
    "# tmp\n",
    "batch = 0\n",
    "\n",
    "moving = gen.__getitem__(2)[0][0][batch, :, :, :,0]\n",
    "fixed = gen.__getitem__(2)[0][1][batch, :, :, :,0]\n",
    "print(gen.get_files_batch(0))\n",
    "greater = tf.cast(tf.greater(moving, 0.), tf.float32)\n",
    "center = tf.reduce_mean(tf.where(greater), axis=0)\n",
    "print(ref_grid.TransformIndexToPhysicalPoint(center.numpy().tolist()))"
   ]
  },
  {
   "cell_type": "code",
   "execution_count": null,
   "metadata": {},
   "outputs": [],
   "source": [
    "sitk.WriteImage(registered_moving, \"registered_moving.nii.gz\")\n",
    "sitk.WriteImage(sitk.ReadImage(valid_gen.get_files_batch(0)[batch] + \".nii.gz\", sitk.sitkFloat32), \"fixed.nii.gz\")"
   ]
  },
  {
   "cell_type": "code",
   "execution_count": null,
   "metadata": {},
   "outputs": [],
   "source": [
    "# def dice_loss(y_true, y_pred):\n",
    "  \n",
    "#     num = 2 * tf.reduce_sum(y_true * y_pred, -1)\n",
    "#     den = tf.maximum(tf.reduce_sum(y_true + y_pred, -1), 1e-6)\n",
    "\n",
    "#     return -tf.reduce_mean(num/den)\n",
    "\n",
    "def dice_loss(y_true, y_pred):\n",
    "    \n",
    "    true_masked = tf.clip_by_value(y_true*1e9, 0, 1)\n",
    "    pred_masked = tf.clip_by_value(y_pred*1e9, 0, 1)\n",
    "\n",
    "    numerator = 2 * tf.reduce_sum(true_masked * pred_masked)\n",
    "    denominator = tf.reduce_sum(true_masked) + tf.reduce_sum(pred_masked)    \n",
    "    return (numerator + 1) / (denominator + 1)\n",
    "\n",
    "def dice_loss_mask(y_true, y_pred):\n",
    "  \n",
    "    numerator = 2 * np.sum(y_true * y_pred)\n",
    "    denominator = np.sum(y_true) + np.sum(y_pred)    \n",
    "    return (numerator + 1) / (denominator + 1)\n",
    "\n",
    "print(dice_loss_mask(truth_mask, pred_mask))\n",
    "print(dice_loss(fixed, sitk.GetArrayFromImage(registered_moving)))"
   ]
  },
  {
   "cell_type": "code",
   "execution_count": null,
   "metadata": {},
   "outputs": [],
   "source": [
    "background = nib.Nifti1Image(fixed, get_mni152_affine_nib())\n",
    "edges = nib.Nifti1Image(sitk.GetArrayFromImage(registered_moving), get_mni152_affine_nib())\n",
    "\n",
    "display = plotting.plot_anat(background)\n",
    "display.add_edges(edges)"
   ]
  },
  {
   "cell_type": "code",
   "execution_count": null,
   "metadata": {},
   "outputs": [],
   "source": [
    "nib_img = nib.load(\"/home/ltetrel/Documents/data/neuromod/derivatives/deepneuroan/training/generated_data/ses-vid001_task-video_run-01_bold_vol-0127.nii.gz\")\n",
    "print(nib_img.get_affine()\n",
    "itk_img = sitk.ReadImage(\"/home/ltetrel/Documents/data/neuromod/derivatives/deepneuroan/training/generated_data/ses-vid001_task-video_run-01_bold_vol-0127.nii.gz\")\n",
    "print(itk_img.GetDirection())\n",
    "print(itk_img.GetSpacing())\n",
    "print(itk_img.GetOrigin())\n",
    "print(itk_img.GetSize())"
   ]
  },
  {
   "cell_type": "code",
   "execution_count": null,
   "metadata": {},
   "outputs": [],
   "source": [
    "itk_tmp = sitk.GetImageFromArray(itk_data)\n",
    "itk_tmp.SetDirection(get_mni152_affine_itk()[:3, :3].flatten())\n",
    "itk_tmp.SetSpacing((1., 1., 1.))\n",
    "itk_tmp.SetOrigin(get_mni152_affine_itk()[:3,3])\n",
    "sitk.WriteImage(itk_tmp, \"itk_tmp.nii.gz\")\n",
    "\n",
    "nib_tmp = sitk.GetImageFromArray(nib_data)\n",
    "# nib_tmp.SetDirection(get_mni152_affine_nib()[:3, :3].flatten())\n",
    "nib_tmp.SetSpacing((1., 1., 1.))\n",
    "nib_tmp.SetOrigin(get_mni152_affine_nib()[:3,3])\n",
    "sitk.WriteImage(nib_tmp, \"nib_tmp.nii.gz\")"
   ]
  },
  {
   "cell_type": "code",
   "execution_count": null,
   "metadata": {},
   "outputs": [],
   "source": [
    "nib_data = nib_img.get_data()\n",
    "itk_data = sitk.GetArrayFromImage(itk_img)\n",
    "# recreated_sitk = sitk.GetImageFromArray(nib_data)\n",
    "# recreated_sitk.SetOrigin(ref_grid.GetOrigin())\n",
    "# recreated_sitk.SetSpacing(ref_grid.GetSpacing())\n",
    "# recreated_sitk.SetDirection(ref_grid.GetDirection())\n",
    "# itk_data = sitk.GetArrayFromImage(recreated_sitk)\n",
    "mask = nib_data != itk_data\n",
    "print(np.sum(mask)/(nib_data.shape[0] * nib_data.shape[1] * nib_data.shape[2]))"
   ]
  }
 ],
 "metadata": {
  "kernelspec": {
   "display_name": "Python 3",
   "language": "python",
   "name": "python3"
  },
  "language_info": {
   "codemirror_mode": {
    "name": "ipython",
    "version": 3
   },
   "file_extension": ".py",
   "mimetype": "text/x-python",
   "name": "python",
   "nbconvert_exporter": "python",
   "pygments_lexer": "ipython3",
   "version": "3.6.9"
  }
 },
 "nbformat": 4,
 "nbformat_minor": 4
}
